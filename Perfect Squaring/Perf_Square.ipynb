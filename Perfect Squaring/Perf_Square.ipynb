{
 "cells": [
  {
   "cell_type": "markdown",
   "metadata": {},
   "source": [
    "An Efficient Method to count squares between a and b"
   ]
  },
  {
   "cell_type": "code",
   "execution_count": null,
   "metadata": {},
   "outputs": [],
   "source": [
    "import numpy as geek\n",
    "import numpy as np\n",
    "import math"
   ]
  },
  {
   "cell_type": "code",
   "execution_count": null,
   "metadata": {},
   "outputs": [],
   "source": [
    "from itertools import chain, combinations, product, permutations\n",
    "import functools\n",
    "import operator\n",
    "def CountSquares(a, b):\n",
    "return (math.floor(math.sqrt(b)) - math.ceil(math.sqrt(a)) + 1)"
   ]
  },
  {
   "cell_type": "markdown",
   "metadata": {},
   "source": [
    "fonction ..."
   ]
  },
  {
   "cell_type": "code",
   "execution_count": null,
   "metadata": {},
   "outputs": [],
   "source": [
    "def powerset(iterable):\n",
    "    \"\"\"\n",
    "    powerset([1,2,3]) --> () (1,) (2,) (3,) (1,2) (1,3) (2,3) (1,2,3)\n",
    "    \"\"\"\n",
    "    xs = list(iterable)\n",
    "    # note we return an iterator rather than a list\n",
    "return chain.from_iterable(combinations(xs,n) for n in range(len(xs)+1))"
   ]
  },
  {
   "cell_type": "markdown",
   "metadata": {},
   "source": [
    "fonction ....."
   ]
  },
  {
   "cell_type": "code",
   "execution_count": null,
   "metadata": {},
   "outputs": [],
   "source": [
    "import math\n",
    "def is_prime(n):\n",
    "    if n % 2 == 0 and n > 2:\n",
    "        return False\n",
    "return all(n % i for i in range(3, int(math.sqrt(n)) + 1, 2))"
   ]
  },
  {
   "cell_type": "markdown",
   "metadata": {},
   "source": [
    "fonction ...."
   ]
  },
  {
   "cell_type": "code",
   "execution_count": null,
   "metadata": {},
   "outputs": [],
   "source": [
    "#1000, 1234)mod1000000007\n",
    "v1 = 40\n",
    "v2 = 56\n",
    "#v1 = 1000\n",
    "#v2 = 1234\n",
    "a = list(range(v1, v2))\n",
    "#print a\n",
    "b = a\n",
    "c = []\n",
    "for i in a:\n",
    "    #print i, is_prime(i)\n",
    "    if is_prime(i):\n",
    "        c.append(i)\n",
    "        for n in range(i*i, v2, i):\n",
    "            #print n\n",
    "            a.remove(n)\n",
    "        b.remove(i)\n",
    "#print b\n",
    "#c = list((powerset(set(b))))\n",
    "#print c\n",
    "#print b\n",
    "cnt = 0\n",
    "for part in list(powerset(set(b))):\n",
    "    #print part\n",
    "    ns = 0\n",
    "    prod = 1\n",
    "    if len(part) != 0:\n",
    "        root = math.sqrt( functools.reduce(operator.mul, part, 1))\n",
    "        r = int(root + 0.5) ** 2\n",
    "        if r ==  functools.reduce(operator.mul, part, 1):\n",
    "            ns += 1\n",
    "    if ns != 0: cnt += 1\n",
    "    #print ns\n",
    "print (\"Count of squares is:\", cnt)"
   ]
  },
  {
   "cell_type": "markdown",
   "metadata": {},
   "source": [
    "#b = list(np.prod(powerset(list(range(40, 56)))))"
   ]
  }
 ],
 "metadata": {
  "kernelspec": {
   "display_name": "Python 3",
   "language": "python",
   "name": "python3"
  },
  "language_info": {
   "codemirror_mode": {
    "name": "ipython",
    "version": 3
   },
   "file_extension": ".py",
   "mimetype": "text/x-python",
   "name": "python",
   "nbconvert_exporter": "python",
   "pygments_lexer": "ipython3",
   "version": "3.6.5"
  }
 },
 "nbformat": 4,
 "nbformat_minor": 2
}
