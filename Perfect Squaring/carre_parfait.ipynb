{
 "cells": [
  {
   "cell_type": "markdown",
   "metadata": {},
   "source": [
    "# Welcome to Jupyter!"
   ]
  },
  {
   "cell_type": "markdown",
   "metadata": {},
   "source": [
    "C(a; b) le nombre de sous-ensembles non vides\n",
    "dans lesquels le produit de tous les éléments est un carré parfait, on veut savoir combien d'ensembles existe-t-ils dans C(a;b)"
   ]
  },
  {
   "cell_type": "markdown",
   "metadata": {},
   "source": [
    "is_prime(n) fonction qui vérifie si un entier est premier, en le divisant par tous les entier depuis son milieu jusqu'à 2, et retourne la réponse"
   ]
  },
  {
   "cell_type": "code",
   "execution_count": null,
   "metadata": {},
   "outputs": [],
   "source": [
    "import math\n",
    "def is_prime(n):\n",
    "    if n % 2 == 0 and n > 2:\n",
    "        return False\n",
    "    return all(n % i for i in range(3, int(math.sqrt(n)) + 1, 2))"
   ]
  },
  {
   "cell_type": "markdown",
   "metadata": {},
   "source": [
    "CountSquares compte le nombre de carré parfait dans un intervalle donné"
   ]
  },
  {
   "cell_type": "code",
   "execution_count": null,
   "metadata": {},
   "outputs": [],
   "source": [
    "from itertools import chain, combinations, product, permutations\n",
    "import functools\n",
    "import operator\n",
    "def CountSquares(a, b):\n",
    "return (math.floor(math.sqrt(b)) - math.ceil(math.sqrt(a)) + 1)"
   ]
  },
  {
   "cell_type": "markdown",
   "metadata": {},
   "source": [
    "Powerset forme les sous-ensembles (combinaisons) à partir des elements d'un ensemble donné"
   ]
  },
  {
   "cell_type": "code",
   "execution_count": null,
   "metadata": {},
   "outputs": [],
   "source": [
    "def powerset(iterable):\n",
    "    \"\"\"\n",
    "    powerset([1,2,3]) --> () (1,) (2,) (3,) (1,2) (1,3) (2,3) (1,2,3)\n",
    "    \"\"\"\n",
    "    xs = list(iterable)\n",
    "    # note: on retourne un itérateur au lieu d'une liste\n",
    "return chain.from_iterable(combinations(xs,n) for n in range(len(xs)+1))"
   ]
  },
  {
   "cell_type": "code",
   "execution_count": null,
   "metadata": {},
   "outputs": [],
   "source": [
    "##définir les bornes inférieure v1 et supérieure b de la liste\n",
    "v1 = 40\n",
    "v2 = 56\n",
    "#construire la liste selon les bornes v1 et v2\n",
    "a = list(range(v1, v2))\n",
    "#print a\n",
    "#utiliser une autre liste de travail b qui contient les éléments de la liste a\n",
    "b = a\n",
    "for i in a:\n",
    "    #print i, is_prime(i)\n",
    "    #enlever les nombres premiers et ses multiples\n",
    "    if is_prime(i):\n",
    "        for n in range(i*i, v2, i):\n",
    "            #print n\n",
    "            a.remove(n)\n",
    "        b.remove(i)\n",
    "#print b\n",
    "#variable qui compte le nombre de sous-ensembles non vides dans lesquels le produit de tous les éléments est un carré parfait.\n",
    "cnt = 0\n",
    "for part in list(powerset(set(b))):\n",
    "    #print part\n",
    "    ns = 0\n",
    "    prod = 1\n",
    "    #exclure le sous-ensemble vide du test\n",
    "    if len(part) != 0:\n",
    "        #calculer la racine carrée du produit des éléments d'un sous-ensemble part\n",
    "        root = math.sqrt( functools.reduce(operator.mul, part, 1))\n",
    "        r = int(root + 0.5) ** 2\n",
    "        #verifier que la racine carrée est entière afin de mettre le nombre de carrés parfaits ns à 1\n",
    "        if r ==  functools.reduce(operator.mul, part, 1):\n",
    "            ns += 1\n",
    "    #incrémenter cnt quand le produit des éléments du sous-ensemble part en cours est un carée parfait (ns==1)\n",
    "    if ns != 0: cnt += 1\n",
    "    #print ns\n",
    "print (\"Le nombre de ous-ensembles où le produit de ses éléments est un carré parfait est:\", cnt)"
   ]
  },
  {
   "cell_type": "markdown",
   "metadata": {},
   "source": [
    "#b = list(np.prod(powerset(list(range(40, 56)))))"
   ]
  },
  {
   "cell_type": "markdown",
   "metadata": {},
   "source": [
    "This repo contains an introduction to [Jupyter](https://jupyter.org) and [IPython](https://ipython.org).\n",
    "\n",
    "Outline of some basics:\n",
    "\n",
    "* [Notebook Basics](../examples/Notebook/Notebook Basics.ipynb)\n",
    "* [IPython - beyond plain python](../examples/IPython Kernel/Beyond Plain Python.ipynb)\n",
    "* [Markdown Cells](../examples/Notebook/Working With Markdown Cells.ipynb)\n",
    "* [Rich Display System](../examples/IPython Kernel/Rich Output.ipynb)\n",
    "* [Custom Display logic](../examples/IPython%20Kernel/Custom%20Display%20Logic.ipynb)\n",
    "* [Running a Secure Public Notebook Server](../examples/Notebook/Running%20the%20Notebook%20Server.ipynb#Securing-the-notebook-server)\n",
    "* [How Jupyter works](../examples/Notebook/Multiple%20Languages%2C%20Frontends.ipynb) to run code in different languages."
   ]
  },
  {
   "cell_type": "markdown",
   "metadata": {},
   "source": [
    "You can also get this tutorial and run it on your laptop:\n",
    "\n",
    "    git clone https://github.com/ipython/ipython-in-depth\n",
    "\n",
    "Install IPython and Jupyter:\n",
    "\n",
    "with [conda](https://www.anaconda.com/download):\n",
    "\n",
    "    conda install ipython jupyter\n",
    "\n",
    "with pip:\n",
    "\n",
    "    # first, always upgrade pip!\n",
    "    pip install --upgrade pip\n",
    "    pip install --upgrade ipython jupyter\n",
    "\n",
    "Start the notebook in the tutorial directory:\n",
    "\n",
    "    cd ipython-in-depth\n",
    "    jupyter notebook"
   ]
  }
 ],
 "metadata": {
  "kernelspec": {
   "display_name": "Python 3",
   "language": "python",
   "name": "python3"
  },
  "language_info": {
   "codemirror_mode": {
    "name": "ipython",
    "version": 3
   },
   "file_extension": ".py",
   "mimetype": "text/x-python",
   "name": "python",
   "nbconvert_exporter": "python",
   "pygments_lexer": "ipython3",
   "version": "3.6.4"
  }
 },
 "nbformat": 4,
 "nbformat_minor": 2
}
